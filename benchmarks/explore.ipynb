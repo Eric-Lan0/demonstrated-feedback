{
 "cells": [
  {
   "cell_type": "code",
   "execution_count": 1,
   "id": "3f374c1c-1def-4728-8149-a27714c788ce",
   "metadata": {},
   "outputs": [],
   "source": [
    "import pickle"
   ]
  },
  {
   "cell_type": "code",
   "execution_count": 2,
   "id": "a114c563-bb32-4905-befd-39d2033c28cc",
   "metadata": {},
   "outputs": [
    {
     "name": "stdout",
     "output_type": "stream",
     "text": [
      "train\n",
      "author: 0\n",
      "Write an approximately 500 word essay to the following prompt: The city of Denver has decided to legalize small amounts of marijuana for persons over 21. How do you feel about this?\n",
      "\n",
      "Write an approximately 500 word essay to the following prompt: The controversial war in Iraq has made news headlines almost every day since it began. How do you feel about the war?\n",
      "\n",
      "Write an email response to a someone who asked you the following: The city of Denver has decided to legalize small amounts of marijuana for persons over 21. How do you feel about this?\n",
      "\n",
      "Write an email response to a someone who asked you the following: Do you feel the Catholic Church needs to change its ways to adapt to life in the 21st Century?\n",
      "\n",
      "Write an approximately 500 word essay to the following prompt: Do you feel that gender discrimination is still an issue in the present-day United States?\n",
      "\n",
      "Write an email response to a someone who asked you the following: Do you feel that gender discrimination is still an issue in the present-day United States?\n",
      "\n",
      "Write an email response to a someone who asked you the following: Recently, school officials prevented a school shooting because one of the shooters posted a myspace bulletin. Do you think this was an invasion of privacy?\n",
      "\n",
      "author: 1\n",
      "Write an approximately 500 word essay to the following prompt: Recently, school officials prevented a school shooting because one of the shooters posted a myspace bulletin. Do you think this was an invasion of privacy?\n",
      "\n",
      "Write an email response to a someone who asked you the following: Do you feel that gender discrimination is still an issue in the present-day United States?\n",
      "\n",
      "Write an approximately 500 word essay to the following prompt: Do you feel that gender discrimination is still an issue in the present-day United States?\n",
      "\n",
      "Write an approximately 500 word essay to the following prompt: While some states have legalized gay marriage, others are still opposed to it. Do you think either side is right or wrong?\n",
      "\n",
      "Write an approximately 500 word essay to the following prompt: The city of Denver has decided to legalize small amounts of marijuana for persons over 21. How do you feel about this?\n",
      "\n",
      "Write an email response to a someone who asked you the following: While some states have legalized gay marriage, others are still opposed to it. Do you think either side is right or wrong?\n",
      "\n",
      "Write an approximately 500 word essay to the following prompt: Do you feel the Catholic Church needs to change its ways to adapt to life in the 21st Century?\n",
      "\n",
      "Write an approximately 500 word essay to the following prompt: The controversial war in Iraq has made news headlines almost every day since it began. How do you feel about the war?\n",
      "\n",
      "author: 2\n",
      "Write an approximately 500 word essay to the following prompt: Do you feel that gender discrimination is still an issue in the present-day United States?\n",
      "\n",
      "Write an email response to a someone who asked you the following: Recently, school officials prevented a school shooting because one of the shooters posted a myspace bulletin. Do you think this was an invasion of privacy?\n",
      "\n",
      "Write an email response to a someone who asked you the following: While some states have legalized gay marriage, others are still opposed to it. Do you think either side is right or wrong?\n",
      "\n",
      "Write an approximately 500 word essay to the following prompt: Do you feel the Catholic Church needs to change its ways to adapt to life in the 21st Century?\n",
      "\n",
      "Write an email response to a someone who asked you the following: Do you feel that gender discrimination is still an issue in the present-day United States?\n",
      "\n",
      "Write an email response to a someone who asked you the following: Do you feel the Catholic Church needs to change its ways to adapt to life in the 21st Century?\n",
      "\n",
      "Write an approximately 500 word essay to the following prompt: The controversial war in Iraq has made news headlines almost every day since it began. How do you feel about the war?\n",
      "\n",
      "author: 3\n",
      "Write an email response to a someone who asked you the following: Do you feel the Catholic Church needs to change its ways to adapt to life in the 21st Century?\n",
      "\n",
      "Write an approximately 500 word essay to the following prompt: Recently, school officials prevented a school shooting because one of the shooters posted a myspace bulletin. Do you think this was an invasion of privacy?\n",
      "\n",
      "Write an approximately 500 word essay to the following prompt: Do you feel that gender discrimination is still an issue in the present-day United States?\n",
      "\n",
      "Write an approximately 500 word essay to the following prompt: While some states have legalized gay marriage, others are still opposed to it. Do you think either side is right or wrong?\n",
      "\n",
      "Write an approximately 500 word essay to the following prompt: Do you feel the Catholic Church needs to change its ways to adapt to life in the 21st Century?\n",
      "\n",
      "Write an email response to a someone who asked you the following: Recently, school officials prevented a school shooting because one of the shooters posted a myspace bulletin. Do you think this was an invasion of privacy?\n",
      "\n",
      "Write an approximately 500 word essay to the following prompt: The controversial war in Iraq has made news headlines almost every day since it began. How do you feel about the war?\n",
      "\n",
      "author: 4\n",
      "Write an email response to a someone who asked you the following: While some states have legalized gay marriage, others are still opposed to it. Do you think either side is right or wrong?\n",
      "\n",
      "Write an email response to a someone who asked you the following: Do you feel the Catholic Church needs to change its ways to adapt to life in the 21st Century?\n",
      "\n",
      "Write an email response to a someone who asked you the following: Do you feel that gender discrimination is still an issue in the present-day United States?\n",
      "\n",
      "Write an email response to a someone who asked you the following: The controversial war in Iraq has made news headlines almost every day since it began. How do you feel about the war?\n",
      "\n",
      "Write an approximately 500 word essay to the following prompt: Do you feel that gender discrimination is still an issue in the present-day United States?\n",
      "\n",
      "Write an email response to a someone who asked you the following: Recently, school officials prevented a school shooting because one of the shooters posted a myspace bulletin. Do you think this was an invasion of privacy?\n",
      "\n",
      "Write an approximately 500 word essay to the following prompt: The city of Denver has decided to legalize small amounts of marijuana for persons over 21. How do you feel about this?\n",
      "\n",
      "author: 5\n",
      "Write an approximately 500 word essay to the following prompt: Do you feel that gender discrimination is still an issue in the present-day United States?\n",
      "\n",
      "Write an approximately 500 word essay to the following prompt: The city of Denver has decided to legalize small amounts of marijuana for persons over 21. How do you feel about this?\n",
      "\n",
      "Write an approximately 500 word essay to the following prompt: While some states have legalized gay marriage, others are still opposed to it. Do you think either side is right or wrong?\n",
      "\n",
      "Write an email response to a someone who asked you the following: Do you feel that gender discrimination is still an issue in the present-day United States?\n",
      "\n",
      "Write an email response to a someone who asked you the following: Recently, school officials prevented a school shooting because one of the shooters posted a myspace bulletin. Do you think this was an invasion of privacy?\n",
      "\n",
      "Write an approximately 500 word essay to the following prompt: Do you feel the Catholic Church needs to change its ways to adapt to life in the 21st Century?\n",
      "\n",
      "Write an approximately 500 word essay to the following prompt: The controversial war in Iraq has made news headlines almost every day since it began. How do you feel about the war?\n",
      "\n",
      "author: 6\n",
      "Write an email response to a someone who asked you the following: Do you feel the Catholic Church needs to change its ways to adapt to life in the 21st Century?\n",
      "\n",
      "Write an approximately 500 word essay to the following prompt: Recently, school officials prevented a school shooting because one of the shooters posted a myspace bulletin. Do you think this was an invasion of privacy?\n",
      "\n",
      "Write an approximately 500 word essay to the following prompt: Do you feel that gender discrimination is still an issue in the present-day United States?\n",
      "\n",
      "Write an email response to a someone who asked you the following: The controversial war in Iraq has made news headlines almost every day since it began. How do you feel about the war?\n",
      "\n",
      "Write an email response to a someone who asked you the following: The city of Denver has decided to legalize small amounts of marijuana for persons over 21. How do you feel about this?\n",
      "\n",
      "Write an approximately 500 word essay to the following prompt: While some states have legalized gay marriage, others are still opposed to it. Do you think either side is right or wrong?\n",
      "\n",
      "Write an email response to a someone who asked you the following: While some states have legalized gay marriage, others are still opposed to it. Do you think either side is right or wrong?\n",
      "\n",
      "author: 7\n",
      "Write an approximately 500 word essay to the following prompt: Recently, school officials prevented a school shooting because one of the shooters posted a myspace bulletin. Do you think this was an invasion of privacy?\n",
      "\n",
      "Write an approximately 500 word essay to the following prompt: Do you feel that gender discrimination is still an issue in the present-day United States?\n",
      "\n",
      "Write an approximately 500 word essay to the following prompt: Do you feel the Catholic Church needs to change its ways to adapt to life in the 21st Century?\n",
      "\n",
      "Write an email response to a someone who asked you the following: The city of Denver has decided to legalize small amounts of marijuana for persons over 21. How do you feel about this?\n",
      "\n",
      "Write an approximately 500 word essay to the following prompt: The controversial war in Iraq has made news headlines almost every day since it began. How do you feel about the war?\n",
      "\n",
      "Write an email response to a someone who asked you the following: Recently, school officials prevented a school shooting because one of the shooters posted a myspace bulletin. Do you think this was an invasion of privacy?\n",
      "\n",
      "Write an email response to a someone who asked you the following: While some states have legalized gay marriage, others are still opposed to it. Do you think either side is right or wrong?\n",
      "\n",
      "author: 8\n",
      "Write an approximately 500 word essay to the following prompt: Recently, school officials prevented a school shooting because one of the shooters posted a myspace bulletin. Do you think this was an invasion of privacy?\n",
      "\n",
      "Write an approximately 500 word essay to the following prompt: Do you feel the Catholic Church needs to change its ways to adapt to life in the 21st Century?\n",
      "\n",
      "Write an approximately 500 word essay to the following prompt: The city of Denver has decided to legalize small amounts of marijuana for persons over 21. How do you feel about this?\n",
      "\n",
      "Write an email response to a someone who asked you the following: Recently, school officials prevented a school shooting because one of the shooters posted a myspace bulletin. Do you think this was an invasion of privacy?\n",
      "\n",
      "Write an approximately 500 word essay to the following prompt: The controversial war in Iraq has made news headlines almost every day since it began. How do you feel about the war?\n",
      "\n",
      "Write an email response to a someone who asked you the following: Do you feel that gender discrimination is still an issue in the present-day United States?\n",
      "\n",
      "Write an approximately 500 word essay to the following prompt: Do you feel that gender discrimination is still an issue in the present-day United States?\n",
      "\n",
      "Write an email response to a someone who asked you the following: The city of Denver has decided to legalize small amounts of marijuana for persons over 21. How do you feel about this?\n",
      "\n",
      "author: 9\n",
      "Write an approximately 500 word essay to the following prompt: Do you feel the Catholic Church needs to change its ways to adapt to life in the 21st Century?\n",
      "\n",
      "Write an email response to a someone who asked you the following: Do you feel that gender discrimination is still an issue in the present-day United States?\n",
      "\n",
      "Write an approximately 500 word essay to the following prompt: The city of Denver has decided to legalize small amounts of marijuana for persons over 21. How do you feel about this?\n",
      "\n",
      "Write an email response to a someone who asked you the following: Recently, school officials prevented a school shooting because one of the shooters posted a myspace bulletin. Do you think this was an invasion of privacy?\n",
      "\n",
      "Write an email response to a someone who asked you the following: While some states have legalized gay marriage, others are still opposed to it. Do you think either side is right or wrong?\n",
      "\n",
      "Write an email response to a someone who asked you the following: The controversial war in Iraq has made news headlines almost every day since it began. How do you feel about the war?\n",
      "\n",
      "Write an approximately 500 word essay to the following prompt: Do you feel that gender discrimination is still an issue in the present-day United States?\n",
      "\n"
     ]
    }
   ],
   "source": [
    "for split in [\"train\"]:\n",
    "    with open(f\"./cmcc/processed/cmcc_{split}.pkl\", 'rb') as pickle_file:\n",
    "        train_data = pickle.load(pickle_file)\n",
    "\n",
    "    print(split)\n",
    "    for i in range(0, 10):\n",
    "        print(f\"author: {i}\")\n",
    "        print(\"\\n\\n\".join([x[\"prompt\"] for x in train_data[i]][:10]))\n",
    "        print()"
   ]
  },
  {
   "cell_type": "code",
   "execution_count": 3,
   "id": "ec5215a6-f5bc-4ae8-a871-20c3d5687f97",
   "metadata": {},
   "outputs": [
    {
     "data": {
      "text/plain": [
       "'[INST] Do you have mayonnaise recipes? [/INST]'"
      ]
     },
     "execution_count": 3,
     "metadata": {},
     "output_type": "execute_result"
    }
   ],
   "source": [
    "text = \"<s>[INST] What is your favourite condiment? [/INST]\"\n",
    "\"Well, I'm quite partial to a good squeeze of fresh lemon juice. It adds just the right amount of zesty flavour to whatever I'm cooking up in the kitchen!</s> \"\n",
    "\"[INST] Do you have mayonnaise recipes? [/INST]\""
   ]
  },
  {
   "cell_type": "code",
   "execution_count": 5,
   "id": "26f5e43b-86ff-4c4e-8622-bfb1dc20591a",
   "metadata": {},
   "outputs": [
    {
     "data": {
      "text/plain": [
       "'<'"
      ]
     },
     "execution_count": 5,
     "metadata": {},
     "output_type": "execute_result"
    }
   ],
   "source": [
    "text[0]"
   ]
  },
  {
   "cell_type": "code",
   "execution_count": null,
   "id": "13478e78-c0f0-48f4-8ff5-dffa40be42b3",
   "metadata": {},
   "outputs": [],
   "source": []
  }
 ],
 "metadata": {
  "kernelspec": {
   "display_name": "ditto",
   "language": "python",
   "name": "ditto"
  },
  "language_info": {
   "codemirror_mode": {
    "name": "ipython",
    "version": 3
   },
   "file_extension": ".py",
   "mimetype": "text/x-python",
   "name": "python",
   "nbconvert_exporter": "python",
   "pygments_lexer": "ipython3",
   "version": "3.12.2"
  }
 },
 "nbformat": 4,
 "nbformat_minor": 5
}
