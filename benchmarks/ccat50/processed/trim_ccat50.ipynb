{
 "cells": [
  {
   "cell_type": "code",
   "execution_count": 13,
   "id": "2d23043e-2d85-4dab-a394-dd2b9955244f",
   "metadata": {},
   "outputs": [],
   "source": [
    "import pickle\n",
    "\n",
    "fname = 'ccat50_val.pkl'\n",
    "with open(fname, 'rb') as file:\n",
    "    # Load the data from the pickle file\n",
    "    data = pickle.load(file)\n",
    "    \n",
    "    for k in data:\n",
    "        data[k] = data[k][:3]"
   ]
  },
  {
   "cell_type": "code",
   "execution_count": 14,
   "id": "5231c9fd-f3ba-48fd-97f2-bc36892c31ca",
   "metadata": {},
   "outputs": [],
   "source": [
    "with open(fname, 'wb') as file:\n",
    "    # Use pickle.dump() to serialize and save the object to the file\n",
    "    pickle.dump(data, file)"
   ]
  },
  {
   "cell_type": "code",
   "execution_count": null,
   "id": "d80a8ae9-af59-4373-9540-3d17ee77ad98",
   "metadata": {},
   "outputs": [],
   "source": []
  }
 ],
 "metadata": {
  "kernelspec": {
   "display_name": "Python 3 (ipykernel)",
   "language": "python",
   "name": "python3"
  },
  "language_info": {
   "codemirror_mode": {
    "name": "ipython",
    "version": 3
   },
   "file_extension": ".py",
   "mimetype": "text/x-python",
   "name": "python",
   "nbconvert_exporter": "python",
   "pygments_lexer": "ipython3",
   "version": "3.12.2"
  }
 },
 "nbformat": 4,
 "nbformat_minor": 5
}
